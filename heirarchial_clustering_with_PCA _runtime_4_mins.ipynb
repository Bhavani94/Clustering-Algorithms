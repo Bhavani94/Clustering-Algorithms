{
 "cells": [
  {
   "cell_type": "code",
   "execution_count": 25,
   "metadata": {
    "collapsed": true
   },
   "outputs": [],
   "source": [
    "#import the necessary libraries\n",
    "%matplotlib inline\n",
    "import pandas as pd\n",
    "import numpy as np\n",
    "import matplotlib.pyplot as plt\n",
    "import scipy as sc\n",
    "import scipy.spatial.distance as scd\n",
    "\n",
    "pd.set_option(\"display.max_rows\", 16)\n",
    "LARGE_FIGSIZE = (12, 8)"
   ]
  },
  {
   "cell_type": "code",
   "execution_count": 26,
   "metadata": {
    "collapsed": true
   },
   "outputs": [],
   "source": [
    "#reading the data from file into program\n",
    "file_name = \"cho.txt\"\n",
    "input_df = pd.read_table(file_name,header=None)\n",
    "#setting the index and renaming column\n",
    "input_df.rename(columns={input_df.columns[0]:'gene_id'}, inplace=True)\n",
    "input_df.rename(columns={input_df.columns[1]:'gnd_truth_cluster'}, inplace=True)\n",
    "input_df = input_df.set_index(input_df.columns[0])"
   ]
  },
  {
   "cell_type": "code",
   "execution_count": 27,
   "metadata": {
    "collapsed": true
   },
   "outputs": [],
   "source": [
    "# creating a copy of the input data for data processing\n",
    "gdf = input_df.copy()\n",
    "gdf.drop('gnd_truth_cluster', axis=1, inplace=True)\n",
    "\n",
    "# creating lists of index and columns for reference\n",
    "gene_exp_column_list = list(gdf.columns)\n",
    "gene_id_list = list(gdf.index)\n",
    "\n",
    "# creating a dataframe for storing the largest/latest cluster that each gene belongs to\n",
    "#gene_2_cluster_mapping = pd.DataFrame(np.nan, index=gene_id_list, columns=['cluster_name'])\n",
    "cluster_grouping_df = pd.DataFrame(np.nan, index=gene_id_list, columns=['cluster_name'])\n",
    "columns = ['cluster_name', 'distance']\n",
    "cluster_dist_df=pd.DataFrame(data=np.zeros((0,len(columns))), columns=columns)\n",
    "cluster_dist_list_tuples = list()\n",
    "cluster_grouping_dict = {}     \n",
    "# creating a dataframe for storing the largest/latest cluster that each gene belongs to\n",
    "#subset_gene_2_cluster_mapping = pd.DataFrame(np.nan, index=subset_row_idx, columns=['cluster_name'])\n",
    "gene_2_cluster_mapping = pd.DataFrame(np.nan, index=gene_id_list, columns=['cluster_name'])\n",
    "cluster_name = \"Cluster_\"\n",
    "## initialize all the index values(gene_ids) as clusters\n",
    "#cluster_dict = {}"
   ]
  },
  {
   "cell_type": "code",
   "execution_count": 28,
   "metadata": {
    "collapsed": false
   },
   "outputs": [],
   "source": [
    "def initialize_clusters_subset(cluster_dict_name, cluster_name_starting_with,gene_cluster_dataframe,gdf,\n",
    "                               row_idx_list):\n",
    "    # zero_entry_gene --> reference gene with attributes as zero\n",
    "    zero_entry_gene = np.zeros(shape=(1, len(gene_exp_column_list)), dtype=int)\n",
    "    for i in range(0, len(row_idx_list)):\n",
    "        name = cluster_name_starting_with + str(i)\n",
    "        dist_gene_zero = scd.euclidean(gdf.loc[gdf.index[i], :], zero_entry_gene)\n",
    "        cluster_dict_name[name] = name\n",
    "        idx = gene_cluster_dataframe.index[i]\n",
    "        gene_cluster_dataframe.loc[idx,'cluster_name'] = name\n",
    "        cluster_dist_list_tuples.append((name,dist_gene_zero))\n",
    "        #cluster_dist_dataframe = cluster_dist_dataframe.append({'cluster_name':name, 'distance':dist_gene_zero},ignore_index=True)"
   ]
  },
  {
   "cell_type": "code",
   "execution_count": 29,
   "metadata": {
    "collapsed": false
   },
   "outputs": [],
   "source": [
    "#gene_2_cluster_mapping"
   ]
  },
  {
   "cell_type": "code",
   "execution_count": 30,
   "metadata": {
    "collapsed": false
   },
   "outputs": [],
   "source": [
    "initialize_clusters_subset(cluster_dict_name=cluster_grouping_dict,cluster_name_starting_with=cluster_name,\n",
    "                           gene_cluster_dataframe=gene_2_cluster_mapping,gdf=gdf,row_idx_list=gene_id_list)\n",
    "lm_arr = []\n",
    "# instead of dataframe for distance matrix .. using numpy array\n",
    "gene_dist_np = np.zeros(shape=(len(gene_id_list), len(gene_id_list)), dtype=float)\n",
    "# initializing the elements of the np array to nan\n",
    "gene_dist_np.fill(np.nan)\n",
    "#cluster_dist_list_tuples\n",
    "#gene_2_cluster_mapping"
   ]
  },
  {
   "cell_type": "code",
   "execution_count": 31,
   "metadata": {
    "collapsed": false
   },
   "outputs": [],
   "source": [
    "def get_min_set_dist_matrix(gdf,idx_list,distance_array):\n",
    "    for i in range(0, len(idx_list)):\n",
    "        for j in range(i, len(idx_list)):\n",
    "            if (not (i == j)):\n",
    "                distance_array[i, j] = scd.euclidean(gdf.iloc[i, :], gdf.iloc[j, :])"
   ]
  },
  {
   "cell_type": "code",
   "execution_count": 32,
   "metadata": {
    "collapsed": false
   },
   "outputs": [],
   "source": [
    "get_min_set_dist_matrix(gdf=gdf,idx_list=gene_id_list,distance_array=gene_dist_np)\n",
    "#pd.DataFrame(gene_dist_np)"
   ]
  },
  {
   "cell_type": "code",
   "execution_count": 33,
   "metadata": {
    "collapsed": true
   },
   "outputs": [],
   "source": [
    "def cluster_of_clusters(distance_array,cluster_dictionary,linkage_matrix,subset_gene_2_cluster_mapping,subset_gdf):\n",
    "    (row_idx, col_idx) = np.unravel_index(np.nanargmin(distance_array), distance_array.shape)\n",
    "    cluster_components = [subset_gene_2_cluster_mapping.iloc[row_idx,0],subset_gene_2_cluster_mapping.iloc[col_idx,0]]\n",
    "    if(len(cluster_components)==0):\n",
    "        print(row_idx)\n",
    "        print(col_idx)\n",
    "    min_dist = distance_array[row_idx, col_idx]\n",
    "    cluster_name = \"Cluster_\" + str(len(cluster_dictionary))\n",
    "    cluster_dictionary[cluster_name] = cluster_components\n",
    "    # get list of genes belonging to clusters being merged\n",
    "    list_left = subset_gene_2_cluster_mapping[subset_gene_2_cluster_mapping.cluster_name == cluster_components[0]].index.tolist()\n",
    "    list_right = subset_gene_2_cluster_mapping[subset_gene_2_cluster_mapping.cluster_name == cluster_components[1]].index.tolist()\n",
    "    #update cluster name in the mapping df\n",
    "    subset_gene_2_cluster_mapping[subset_gene_2_cluster_mapping['cluster_name']==cluster_components[0]]=cluster_name\n",
    "    subset_gene_2_cluster_mapping[subset_gene_2_cluster_mapping['cluster_name']==cluster_components[1]]=cluster_name\n",
    "    #num_elements \n",
    "    num_elements = subset_gene_2_cluster_mapping.cluster_name[subset_gene_2_cluster_mapping.cluster_name==cluster_name].count()\n",
    "    #cluster_dist_dataframe = cluster_dist_dataframe.append({'cluster_name':cluster_name, 'distance':min_dist},ignore_index=True)\n",
    "    cluster_dist_list_tuples.append((cluster_name,min_dist))\n",
    "    linkage_matrix.append([float(cluster_components[0][8:]), float(cluster_components[1][8:]), min_dist,num_elements])\n",
    "    for i in range(0, len(list_left)):\n",
    "        idx_left = subset_gdf.index.get_loc(list_left[i])\n",
    "        for j in range(0, len(list_right)):\n",
    "            idx_right = subset_gdf.index.get_loc(list_right[j])\n",
    "            distance_array[idx_left, idx_right] = np.nan\n",
    "            distance_array[idx_right, idx_left] = np.nan"
   ]
  },
  {
   "cell_type": "code",
   "execution_count": 34,
   "metadata": {
    "collapsed": false
   },
   "outputs": [],
   "source": [
    "while(len(gene_2_cluster_mapping['cluster_name'].unique()) > 1):\n",
    "    cluster_of_clusters(distance_array=gene_dist_np,cluster_dictionary=cluster_grouping_dict,linkage_matrix=lm_arr,subset_gene_2_cluster_mapping=gene_2_cluster_mapping,subset_gdf=gdf)"
   ]
  },
  {
   "cell_type": "code",
   "execution_count": 35,
   "metadata": {
    "collapsed": false
   },
   "outputs": [],
   "source": [
    "cluster_dist_df = pd.DataFrame.from_records(cluster_dist_list_tuples)\n",
    "cluster_dist_df = cluster_dist_df.set_index(cluster_dist_df.columns[0])\n",
    "cluster_dist_df.index.rename('cluster_name',inplace=True)\n",
    "cluster_dist_df.rename(columns={1:'distance'}, inplace=True)\n",
    "#lm_arr[-20:]"
   ]
  },
  {
   "cell_type": "code",
   "execution_count": 36,
   "metadata": {
    "collapsed": false
   },
   "outputs": [],
   "source": [
    "import copy\n",
    "#cluster_grouping_dict_safe = cluster_grouping_dict.copy()\n",
    "cluster_grouping_dict_safe = copy.deepcopy(cluster_grouping_dict)\n",
    "#print(gene_2_cluster_mapping)"
   ]
  },
  {
   "cell_type": "code",
   "execution_count": 37,
   "metadata": {
    "collapsed": false
   },
   "outputs": [
    {
     "data": {
      "image/png": "[encoded data removed]",
      "text/plain": [
       "<matplotlib.figure.Figure at 0x207e026bd68>"
      ]
     },
     "metadata": {},
     "output_type": "display_data"
    }
   ],
   "source": [
    "from scipy.cluster.hierarchy import dendrogram\n",
    "from matplotlib import pyplot as plt\n",
    "lm_arr2 = np.array(lm_arr)\n",
    "\n",
    "# calculate full dendrogram\n",
    "plt.figure(figsize=(25, 10))\n",
    "plt.title('Hierarchical Clustering Dendrogram')\n",
    "plt.xlabel('sample index')\n",
    "plt.ylabel('distance')\n",
    "dendrogram(\n",
    "    lm_arr2,\n",
    "    truncate_mode = 'lastp',\n",
    "    p=5,\n",
    "    #show_contracted = True,\n",
    "    #color_threshold = 0.5,\n",
    "    leaf_rotation=90.,  # rotates the x axis labels\n",
    "    leaf_font_size=8.,  # font size for the x axis labels\n",
    ")\n",
    "plt.savefig('hac_new.png')"
   ]
  },
  {
   "cell_type": "code",
   "execution_count": 38,
   "metadata": {
    "collapsed": false
   },
   "outputs": [],
   "source": [
    "#dfs based search\n",
    "#threshold value is the distance value above which no clusters are considered\n",
    "# the first cluster that is found(non-singleton will be considered as one of the final clusters)\n",
    "#a list reference will be provided that will collect all the final clusters\n",
    "def dfs_search_4_final_clusters(root_cluster,threshold,final_cluster_list):\n",
    "    #print(root_cluster)\n",
    "    if(type(cluster_grouping_dict[root_cluster])==str):\n",
    "        return\n",
    "    else:\n",
    "        stack = cluster_grouping_dict[root_cluster][:]\n",
    "    #dfs_search_4_final_clusters(root_cluster=stack[0],threshold=threshold,final_cluster_list=final_cluster_list)\n",
    "    while(len(stack)>0):\n",
    "        if(type(stack)==str):\n",
    "            return\n",
    "        else:\n",
    "            #considering each component cluster at a time\n",
    "            cluster_cur = stack.pop()\n",
    "            if(cluster_dist_df.loc[cluster_cur,'distance']<threshold):\n",
    "                #crossing the threshold barrier\n",
    "                final_cluster_list.append(cluster_cur)\n",
    "                pass\n",
    "            else:\n",
    "                dfs_search_4_final_clusters(root_cluster=cluster_cur,threshold=threshold,final_cluster_list=final_cluster_list)"
   ]
  },
  {
   "cell_type": "code",
   "execution_count": 39,
   "metadata": {
    "collapsed": true
   },
   "outputs": [],
   "source": [
    "def dfs_search_n_mark_cluster_names(root_cluster,cluster_name):\n",
    "    #print(root_cluster)\n",
    "    if(type(cluster_grouping_dict[root_cluster])==str):\n",
    "        #mark\n",
    "        gene_id = int(cluster_grouping_dict[root_cluster][8:])+1\n",
    "        #print(gene_id)\n",
    "        idx_num= gene_2_cluster_mapping.index.get_loc(gene_id)\n",
    "        gene_2_cluster_mapping.iloc[idx_num] = cluster_name\n",
    "        return\n",
    "    else:\n",
    "        stack = cluster_grouping_dict[root_cluster][:]\n",
    "    #dfs_search_4_final_clusters(root_cluster=stack[0],threshold=threshold,final_cluster_list=final_cluster_list)\n",
    "    while(len(stack)>0):\n",
    "        if(type(stack)==str):\n",
    "            #mark\n",
    "            gene_id = int(cluster_grouping_dict[root_cluster][8:])+1\n",
    "            #print(gene_id)\n",
    "            idx_num=gene_2_cluster_mapping.index.get_loc(gene_id)\n",
    "            gene_2_cluster_mapping.iloc[idx_num] = cluster_name\n",
    "            #print(gene_id)\n",
    "            return\n",
    "        else:\n",
    "            #considering each component cluster at a time\n",
    "            cluster_cur = stack.pop()\n",
    "            dfs_search_n_mark_cluster_names(root_cluster=cluster_cur,cluster_name=cluster_name)"
   ]
  },
  {
   "cell_type": "code",
   "execution_count": 40,
   "metadata": {
    "collapsed": false
   },
   "outputs": [
    {
     "data": {
      "text/plain": [
       "1.2460774454262462"
      ]
     },
     "execution_count": 40,
     "metadata": {},
     "output_type": "execute_result"
    }
   ],
   "source": [
    "lm_df = pd.DataFrame(lm_arr)\n",
    "lm_df_stats = lm_df.describe()\n",
    "threshold = lm_df_stats.loc['75%',2]\n",
    "threshold"
   ]
  },
  {
   "cell_type": "code",
   "execution_count": 41,
   "metadata": {
    "collapsed": false
   },
   "outputs": [],
   "source": [
    "import copy\n",
    "gcm = copy.deepcopy(gene_2_cluster_mapping)\n",
    "idx_size = cluster_dist_df.index.size\n",
    "idx_size-=1\n",
    "final_cluster_list = list()\n",
    "#threshold = 1.2\n",
    "dfs_search_4_final_clusters(root_cluster=cluster_dist_df.index[idx_size],threshold=threshold,final_cluster_list=final_cluster_list)"
   ]
  },
  {
   "cell_type": "code",
   "execution_count": 42,
   "metadata": {
    "collapsed": false
   },
   "outputs": [],
   "source": [
    "for i in range(0,len(final_cluster_list)):\n",
    "    dfs_search_n_mark_cluster_names(root_cluster=final_cluster_list[i],cluster_name=i)\n",
    "#gene_2_cluster_mapping.loc[1,'cluster_name']=\"Cluster_770\""
   ]
  },
  {
   "cell_type": "code",
   "execution_count": 43,
   "metadata": {
    "collapsed": false
   },
   "outputs": [],
   "source": [
    "#print(gene_2_cluster_mapping)\n",
    "\n",
    "#for i in range(0,len(final_cluster_list)):\n",
    "#    dfs_search_n_mark_cluster_names(root_cluster=final_cluster_list[i],cluster_name=i)\n",
    "gene_2_cluster_mapping[gene_2_cluster_mapping.cluster_name==cluster_dist_df.index[idx_size]]=-1\n",
    "\n"
   ]
  },
  {
   "cell_type": "code",
   "execution_count": 44,
   "metadata": {
    "collapsed": true
   },
   "outputs": [],
   "source": [
    "import itertools\n",
    "def label_perm(x):\n",
    "    idx = x-1\n",
    "    return perm_list[idx]\n",
    "def get_jc_label_permute(max_cluster_label_num,predicted_label,gnd_truth_vector):\n",
    "    # returns final_label_pred,jc_value\n",
    "    init_label = predicted_label[:]\n",
    "    max_jc_value = 0\n",
    "    final_label_pred = list()\n",
    "    perm_list_cluster_labels = list(itertools.permutations(range(1,max_cluster_label_num+1)))\n",
    "    iter_cnt = 0\n",
    "    for tuple_labels in perm_list_cluster_labels:\n",
    "        if(iter_cnt<25):\n",
    "            iter_cnt+=1\n",
    "            perm_cluster_label_list = list(tuple_labels)\n",
    "            #pred = map(label_perm),init_label)\n",
    "            pred = map((lambda x: perm_cluster_label_list[x-1]),init_label)\n",
    "            js_score = jaccard_similarity_score(gnd_truth_vector,pred)\n",
    "            if(js_score>max_jc_value):\n",
    "                max_jc_value = js_score\n",
    "                final_label_pred = pred[:]\n",
    "        else:\n",
    "            break\n",
    "    return (max_jc_value,final_label_pred)"
   ]
  },
  {
   "cell_type": "code",
   "execution_count": 45,
   "metadata": {
    "collapsed": false
   },
   "outputs": [],
   "source": [
    "from sklearn.metrics import jaccard_similarity_score\n",
    "gnd_truth_np = np.array(input_df.loc[:,'gnd_truth_cluster'],dtype=int)\n",
    "#j_score,pred_label_map = get_jc_label_permute(max_cluster_label_num = len(final_cluster_list)+1,predicted_label=np.array(gene_2_cluster_mapping.cluster_name) ,gnd_truth_vector= gnd_truth_np)\n",
    "js_score = jaccard_similarity_score(gnd_truth_np,gene_2_cluster_mapping.cluster_name.values.tolist())"
   ]
  },
  {
   "cell_type": "code",
   "execution_count": 46,
   "metadata": {
    "collapsed": false
   },
   "outputs": [
    {
     "data": {
      "text/plain": [
       "0.098445595854922283"
      ]
     },
     "execution_count": 46,
     "metadata": {},
     "output_type": "execute_result"
    }
   ],
   "source": [
    "js_score"
   ]
  },
  {
   "cell_type": "code",
   "execution_count": 47,
   "metadata": {
    "collapsed": false
   },
   "outputs": [],
   "source": [
    "#gene_2_cluster_mapping.cluster_name.values.tolist()"
   ]
  },
  {
   "cell_type": "code",
   "execution_count": 48,
   "metadata": {
    "collapsed": false
   },
   "outputs": [
    {
     "data": {
      "text/plain": [
       "<matplotlib.text.Text at 0x207dedec898>"
      ]
     },
     "execution_count": 48,
     "metadata": {},
     "output_type": "execute_result"
    },
    {
     "data": {
      "image/png": "[encoded data removed]",
      "text/plain": [
       "<matplotlib.figure.Figure at 0x207dfee8390>"
      ]
     },
     "metadata": {},
     "output_type": "display_data"
    }
   ],
   "source": [
    "# Package to perform PCA\n",
    "import sklearn.datasets\n",
    "import sklearn.decomposition\n",
    "\n",
    "# Perform the PCA again retaining only the top 2 components\n",
    "sklearn_pca = sklearn.decomposition.PCA(n_components=2)\n",
    "sklearn_pca.fit(np.array(gdf))\n",
    "\n",
    "# Project the data into this 2D space and convert it back to a tidy dataframe\n",
    "df_2D = pd.DataFrame(sklearn_pca.transform(np.array(gdf)),columns=['PCA1', 'PCA2'])\n",
    "df_2D['clusters'] = gene_2_cluster_mapping['cluster_name']\n",
    "df_2D.head()\n",
    "for key, group in df_2D.groupby(['clusters']):\n",
    "    plt.plot(group.PCA1, group.PCA2, 'o', alpha=0.7, label=key)\n",
    "\n",
    "# Tidy up plot\n",
    "plt.legend(loc=0, fontsize=15)\n",
    "plt.margins(0.05)\n",
    "plt.xlabel('PCA 1')\n",
    "plt.ylabel('PCA 2')"
   ]
  },
  {
   "cell_type": "code",
   "execution_count": null,
   "metadata": {
    "collapsed": true
   },
   "outputs": [],
   "source": []
  }
 ],
 "metadata": {
  "anaconda-cloud": {},
  "kernelspec": {
   "display_name": "Python [conda root]",
   "language": "python",
   "name": "conda-root-py"
  },
  "language_info": {
   "codemirror_mode": {
    "name": "ipython",
    "version": 3
   },
   "file_extension": ".py",
   "mimetype": "text/x-python",
   "name": "python",
   "nbconvert_exporter": "python",
   "pygments_lexer": "ipython3",
   "version": "3.5.2"
  }
 },
 "nbformat": 4,
 "nbformat_minor": 1
}
