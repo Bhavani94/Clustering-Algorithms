{
 "cells": [
  {
   "cell_type": "code",
   "execution_count": 1,
   "metadata": {
    "collapsed": true
   },
   "outputs": [],
   "source": [
    "#import the necessary libraries\n",
    "%matplotlib inline\n",
    "import pandas as pd\n",
    "import numpy as np\n",
    "import matplotlib.pyplot as plt\n",
    "import scipy as sc\n",
    "import scipy.spatial.distance as scd\n",
    "from sklearn.metrics import jaccard_similarity_score\n",
    "\n",
    "pd.set_option(\"display.max_rows\", 16)\n",
    "LARGE_FIGSIZE = (20, 10)"
   ]
  },
  {
   "cell_type": "code",
   "execution_count": 2,
   "metadata": {
    "collapsed": true
   },
   "outputs": [],
   "source": [
    "#change directory\n",
    "#%cd ~/cse_601/project2/\n",
    "file_name = \"iyer.txt\"\n",
    "#file_name = \"kmean_ex2.txt\"\n",
    "#initialize number of clusters \n",
    "num_clusters = 11\n",
    "#cluster_indexes = [1,2]\n",
    "cluster_indexes = list()"
   ]
  },
  {
   "cell_type": "code",
   "execution_count": 3,
   "metadata": {
    "collapsed": true
   },
   "outputs": [],
   "source": [
    "#access and store the required data\n",
    "input_df = pd.read_table(file_name,header=None)\n",
    "#input_df\n",
    "\n",
    "#rename and reorganize data\n",
    "input_df.rename(columns={input_df.columns[0]:'gene_id'}, inplace=True)\n",
    "input_df.rename(columns={input_df.columns[1]:'gnd_truth_cluster'}, inplace=True)\n",
    "input_df = input_df.set_index(input_df.columns[0])\n",
    "#input_df\n",
    "\n",
    "#create a copy of original data and drop required columns\n",
    "gdf = input_df.copy()\n",
    "gdf.drop('gnd_truth_cluster',axis=1,inplace=True)\n",
    "data_attribute_list = list(gdf.columns)\n",
    "\n",
    "#reference array for external index calculation\n",
    "gnd_truth = np.array(input_df.loc[:,'gnd_truth_cluster'],dtype=int)\n",
    "gnd_truth_np = np.array(input_df.loc[:,'gnd_truth_cluster'],dtype=int)\n",
    "\n",
    "#create two lists - one for cluster names (adding new rows) and another for storing distance from the clusters(cols)\n",
    "str1 = \"cluster_\"\n",
    "str2 = \"dist_\"\n",
    "cluster_list = []\n",
    "cluster_dist_list = []\n",
    "for i in range(1,num_clusters+1):\n",
    "        cluster_list.append(str1+str(i))\n",
    "        cluster_dist_list.append(str2 + str1+str(i))\n",
    "#print(cluster_list)\n",
    "#print(cluster_dist_list)\n",
    "\n",
    "#create list of sets(to compare changes in clustering over iterations)\n",
    "prev_list_set_clusters = list()\n",
    "cur_list_set_clusters = list()\n",
    "\n",
    "#initialize clusters\n",
    "import random\n",
    "if(len(cluster_indexes)==0):\n",
    "    cluster_indexes = random.sample(input_df.index.tolist(), num_clusters)\n",
    "    #cluster_indexes = random.sample(xrange(1,len(gdf.index)), num_clusters)\n",
    "    \n",
    "#inserting the clusters as rows\n",
    "for i in range(0,len(cluster_list)):\n",
    "        gdf.loc[cluster_list[i]] = gdf.loc[cluster_indexes[i]]\n",
    "\n",
    "#create columns to store the distance of genes from each cluster\n",
    "for i in range(0,len(cluster_dist_list)):\n",
    "    gdf[cluster_dist_list[i]] = 0\n",
    "\n",
    "def k_means_terminate_condition(prev_set_list, cur_set_list):\n",
    "    #print(len(prev_set_list))\n",
    "    #print(len(cur_set_list))\n",
    "    if(len(prev_set_list)==0):\n",
    "        return True\n",
    "    else:\n",
    "        flag = True\n",
    "        for j in range(0,len(cur_set_list)):\n",
    "            flag = (flag and (set(prev_set_list[j])==set(cur_set_list[j])))\n",
    "            #flag = flag and ((prev_set_list[j].issubset(cur_set_list[j])) and (cur_set_list[j].issubset(prev_set_list[j])))\n",
    "        return not flag\n",
    "            \n",
    "\n",
    "prev_list_set_clusters=[]\n",
    "cur_list_set_clusters = []\n",
    "num_iter = 0\n",
    "attr_cnt = len(data_attribute_list)\n",
    "#terminate the k-means algorithm when there is no difference in clusters between two iterations\n",
    "while(k_means_terminate_condition(prev_set_list=prev_list_set_clusters, cur_set_list=cur_list_set_clusters)):\n",
    "    num_iter += 1\n",
    "    if(len(cur_list_set_clusters)>0):\n",
    "        prev_list_set_clusters = cur_list_set_clusters\n",
    "        cur_list_set_clusters = []\n",
    "    #calculate euclidean distance of each gene_id from each cluster centroid\n",
    "    for i in range(0,len(cluster_list)):\n",
    "        gdf[cluster_dist_list[i]]=gdf.apply((lambda x:scd.euclidean(x[0:attr_cnt],gdf.iloc[gdf.index.get_loc(cluster_list[i]),0:attr_cnt])),axis=1)\n",
    "    #assign the least distance of gene_id from cluster centroids to cluster columns\n",
    "    gdf['cluster']=gdf.loc[:,cluster_dist_list].idxmin(axis=1)\n",
    "    #string manipulation - to get the cluster_name assigned to each gene_id\n",
    "    gdf['cluster']=gdf['cluster'].map(lambda x:str(x).strip(\"dist_\"))\n",
    "    #populate list of indexes(gene_ids) for a particular cluster\n",
    "    for i in range(0,len(cluster_list)):\n",
    "        cur_list_set_clusters.append(set(gdf.index[gdf['cluster']==cluster_list[i]].tolist()[:-1]))\n",
    "        gdf.iloc[gdf.index.get_loc(cluster_list[i]),0:attr_cnt]= gdf.loc[(gdf['cluster']==cluster_list[i]),:].iloc[:,0:attr_cnt].mean(axis=0)\n",
    "\n",
    "#renaming the values in cluster column to integers\n",
    "for i in range(0,len(cur_list_set_clusters)):\n",
    "    gdf.loc[cur_list_set_clusters[i],'cluster'] = i+1\n",
    "\n",
    "#predicted clustering by our implementation\n",
    "pred = np.array(gdf.loc[input_df.index,'cluster'],dtype=int)\n",
    "pred_original = pred[:]"
   ]
  },
  {
   "cell_type": "code",
   "execution_count": 4,
   "metadata": {
    "collapsed": true
   },
   "outputs": [],
   "source": [
    "#purpose of below code - generating different combinations of cluster names and checking for jaccard co efficient\n",
    "#ex. the same cluster in ground truth maybe called as \"2\" maybe called \"3\" in generated cluster\n",
    "# if pts [a:d] had ground truth mentioned as [1,2,1,2] had cluster_name generated as [2,1,1,2]\n",
    "# then in reality the same cluster of points are called by different names\n",
    "import itertools\n",
    "def label_perm(x):\n",
    "    idx = x-1\n",
    "    return perm_list[idx]\n",
    "def get_jc_label_permute(max_cluster_label_num,predicted_label,gnd_truth_vector):\n",
    "    # returns final_label_pred,jc_value\n",
    "    init_label = predicted_label[:]\n",
    "    max_jc_value = 0\n",
    "    final_label_pred = list()\n",
    "    perm_list_cluster_labels = list(itertools.permutations(range(1,max_cluster_label_num+1)))\n",
    "    iter_cnt = 0\n",
    "    for tuple_labels in perm_list_cluster_labels:\n",
    "        if(iter_cnt<25):\n",
    "            iter_cnt+=1\n",
    "            perm_cluster_label_list = list(tuple_labels)\n",
    "            #pred = map(label_perm),init_label)\n",
    "            pred = map((lambda x: perm_cluster_label_list[x-1]),init_label)\n",
    "            js_score = jaccard_similarity_score(gnd_truth_vector,pred)\n",
    "            if(js_score>max_jc_value):\n",
    "                max_jc_value = js_score\n",
    "                final_label_pred = pred[:]\n",
    "        else:\n",
    "            break\n",
    "    return (max_jc_value,final_label_pred)"
   ]
  },
  {
   "cell_type": "code",
   "execution_count": 5,
   "metadata": {
    "collapsed": false
   },
   "outputs": [
    {
     "ename": "TypeError",
     "evalue": "Expected sequence or array-like, got <class 'map'>",
     "output_type": "error",
     "traceback": [
      "\u001b[0;31m---------------------------------------------------------------------------\u001b[0m",
      "\u001b[0;31mTypeError\u001b[0m                                 Traceback (most recent call last)",
      "\u001b[0;32m<ipython-input-5-696b19c6f3e5>\u001b[0m in \u001b[0;36m<module>\u001b[0;34m()\u001b[0m\n\u001b[1;32m      1\u001b[0m \u001b[1;31m#get label_map for the max j_score\u001b[0m\u001b[1;33m\u001b[0m\u001b[1;33m\u001b[0m\u001b[0m\n\u001b[0;32m----> 2\u001b[0;31m \u001b[0mj_score\u001b[0m\u001b[1;33m,\u001b[0m\u001b[0mpred_label_map\u001b[0m \u001b[1;33m=\u001b[0m \u001b[0mget_jc_label_permute\u001b[0m\u001b[1;33m(\u001b[0m\u001b[0mmax_cluster_label_num\u001b[0m \u001b[1;33m=\u001b[0m \u001b[1;36m11\u001b[0m\u001b[1;33m,\u001b[0m\u001b[0mpredicted_label\u001b[0m\u001b[1;33m=\u001b[0m\u001b[0mpred\u001b[0m \u001b[1;33m,\u001b[0m\u001b[0mgnd_truth_vector\u001b[0m\u001b[1;33m=\u001b[0m \u001b[0mgnd_truth_np\u001b[0m\u001b[1;33m)\u001b[0m\u001b[1;33m\u001b[0m\u001b[0m\n\u001b[0m",
      "\u001b[0;32m<ipython-input-4-e335b2ed9643>\u001b[0m in \u001b[0;36mget_jc_label_permute\u001b[0;34m(max_cluster_label_num, predicted_label, gnd_truth_vector)\u001b[0m\n\u001b[1;32m     20\u001b[0m             \u001b[1;31m#pred = map(label_perm),init_label)\u001b[0m\u001b[1;33m\u001b[0m\u001b[1;33m\u001b[0m\u001b[0m\n\u001b[1;32m     21\u001b[0m             \u001b[0mpred\u001b[0m \u001b[1;33m=\u001b[0m \u001b[0mmap\u001b[0m\u001b[1;33m(\u001b[0m\u001b[1;33m(\u001b[0m\u001b[1;32mlambda\u001b[0m \u001b[0mx\u001b[0m\u001b[1;33m:\u001b[0m \u001b[0mperm_cluster_label_list\u001b[0m\u001b[1;33m[\u001b[0m\u001b[0mx\u001b[0m\u001b[1;33m-\u001b[0m\u001b[1;36m1\u001b[0m\u001b[1;33m]\u001b[0m\u001b[1;33m)\u001b[0m\u001b[1;33m,\u001b[0m\u001b[0minit_label\u001b[0m\u001b[1;33m)\u001b[0m\u001b[1;33m\u001b[0m\u001b[0m\n\u001b[0;32m---> 22\u001b[0;31m             \u001b[0mjs_score\u001b[0m \u001b[1;33m=\u001b[0m \u001b[0mjaccard_similarity_score\u001b[0m\u001b[1;33m(\u001b[0m\u001b[0mgnd_truth_vector\u001b[0m\u001b[1;33m,\u001b[0m\u001b[0mpred\u001b[0m\u001b[1;33m)\u001b[0m\u001b[1;33m\u001b[0m\u001b[0m\n\u001b[0m\u001b[1;32m     23\u001b[0m             \u001b[1;32mif\u001b[0m\u001b[1;33m(\u001b[0m\u001b[0mjs_score\u001b[0m\u001b[1;33m>\u001b[0m\u001b[0mmax_jc_value\u001b[0m\u001b[1;33m)\u001b[0m\u001b[1;33m:\u001b[0m\u001b[1;33m\u001b[0m\u001b[0m\n\u001b[1;32m     24\u001b[0m                 \u001b[0mmax_jc_value\u001b[0m \u001b[1;33m=\u001b[0m \u001b[0mjs_score\u001b[0m\u001b[1;33m\u001b[0m\u001b[0m\n",
      "\u001b[0;32mC:\\Users\\Akash\\Anaconda3\\lib\\site-packages\\sklearn\\metrics\\classification.py\u001b[0m in \u001b[0;36mjaccard_similarity_score\u001b[0;34m(y_true, y_pred, normalize, sample_weight)\u001b[0m\n\u001b[1;32m    381\u001b[0m \u001b[1;33m\u001b[0m\u001b[0m\n\u001b[1;32m    382\u001b[0m     \u001b[1;31m# Compute accuracy for each possible representation\u001b[0m\u001b[1;33m\u001b[0m\u001b[1;33m\u001b[0m\u001b[0m\n\u001b[0;32m--> 383\u001b[0;31m     \u001b[0my_type\u001b[0m\u001b[1;33m,\u001b[0m \u001b[0my_true\u001b[0m\u001b[1;33m,\u001b[0m \u001b[0my_pred\u001b[0m \u001b[1;33m=\u001b[0m \u001b[0m_check_targets\u001b[0m\u001b[1;33m(\u001b[0m\u001b[0my_true\u001b[0m\u001b[1;33m,\u001b[0m \u001b[0my_pred\u001b[0m\u001b[1;33m)\u001b[0m\u001b[1;33m\u001b[0m\u001b[0m\n\u001b[0m\u001b[1;32m    384\u001b[0m     \u001b[1;32mif\u001b[0m \u001b[0my_type\u001b[0m\u001b[1;33m.\u001b[0m\u001b[0mstartswith\u001b[0m\u001b[1;33m(\u001b[0m\u001b[1;34m'multilabel'\u001b[0m\u001b[1;33m)\u001b[0m\u001b[1;33m:\u001b[0m\u001b[1;33m\u001b[0m\u001b[0m\n\u001b[1;32m    385\u001b[0m         \u001b[1;32mwith\u001b[0m \u001b[0mnp\u001b[0m\u001b[1;33m.\u001b[0m\u001b[0merrstate\u001b[0m\u001b[1;33m(\u001b[0m\u001b[0mdivide\u001b[0m\u001b[1;33m=\u001b[0m\u001b[1;34m'ignore'\u001b[0m\u001b[1;33m,\u001b[0m \u001b[0minvalid\u001b[0m\u001b[1;33m=\u001b[0m\u001b[1;34m'ignore'\u001b[0m\u001b[1;33m)\u001b[0m\u001b[1;33m:\u001b[0m\u001b[1;33m\u001b[0m\u001b[0m\n",
      "\u001b[0;32mC:\\Users\\Akash\\Anaconda3\\lib\\site-packages\\sklearn\\metrics\\classification.py\u001b[0m in \u001b[0;36m_check_targets\u001b[0;34m(y_true, y_pred)\u001b[0m\n\u001b[1;32m     70\u001b[0m     \u001b[0my_pred\u001b[0m \u001b[1;33m:\u001b[0m \u001b[0marray\u001b[0m \u001b[1;32mor\u001b[0m \u001b[0mindicator\u001b[0m \u001b[0mmatrix\u001b[0m\u001b[1;33m\u001b[0m\u001b[0m\n\u001b[1;32m     71\u001b[0m     \"\"\"\n\u001b[0;32m---> 72\u001b[0;31m     \u001b[0mcheck_consistent_length\u001b[0m\u001b[1;33m(\u001b[0m\u001b[0my_true\u001b[0m\u001b[1;33m,\u001b[0m \u001b[0my_pred\u001b[0m\u001b[1;33m)\u001b[0m\u001b[1;33m\u001b[0m\u001b[0m\n\u001b[0m\u001b[1;32m     73\u001b[0m     \u001b[0mtype_true\u001b[0m \u001b[1;33m=\u001b[0m \u001b[0mtype_of_target\u001b[0m\u001b[1;33m(\u001b[0m\u001b[0my_true\u001b[0m\u001b[1;33m)\u001b[0m\u001b[1;33m\u001b[0m\u001b[0m\n\u001b[1;32m     74\u001b[0m     \u001b[0mtype_pred\u001b[0m \u001b[1;33m=\u001b[0m \u001b[0mtype_of_target\u001b[0m\u001b[1;33m(\u001b[0m\u001b[0my_pred\u001b[0m\u001b[1;33m)\u001b[0m\u001b[1;33m\u001b[0m\u001b[0m\n",
      "\u001b[0;32mC:\\Users\\Akash\\Anaconda3\\lib\\site-packages\\sklearn\\utils\\validation.py\u001b[0m in \u001b[0;36mcheck_consistent_length\u001b[0;34m(*arrays)\u001b[0m\n\u001b[1;32m    171\u001b[0m     \"\"\"\n\u001b[1;32m    172\u001b[0m \u001b[1;33m\u001b[0m\u001b[0m\n\u001b[0;32m--> 173\u001b[0;31m     \u001b[0muniques\u001b[0m \u001b[1;33m=\u001b[0m \u001b[0mnp\u001b[0m\u001b[1;33m.\u001b[0m\u001b[0munique\u001b[0m\u001b[1;33m(\u001b[0m\u001b[1;33m[\u001b[0m\u001b[0m_num_samples\u001b[0m\u001b[1;33m(\u001b[0m\u001b[0mX\u001b[0m\u001b[1;33m)\u001b[0m \u001b[1;32mfor\u001b[0m \u001b[0mX\u001b[0m \u001b[1;32min\u001b[0m \u001b[0marrays\u001b[0m \u001b[1;32mif\u001b[0m \u001b[0mX\u001b[0m \u001b[1;32mis\u001b[0m \u001b[1;32mnot\u001b[0m \u001b[1;32mNone\u001b[0m\u001b[1;33m]\u001b[0m\u001b[1;33m)\u001b[0m\u001b[1;33m\u001b[0m\u001b[0m\n\u001b[0m\u001b[1;32m    174\u001b[0m     \u001b[1;32mif\u001b[0m \u001b[0mlen\u001b[0m\u001b[1;33m(\u001b[0m\u001b[0muniques\u001b[0m\u001b[1;33m)\u001b[0m \u001b[1;33m>\u001b[0m \u001b[1;36m1\u001b[0m\u001b[1;33m:\u001b[0m\u001b[1;33m\u001b[0m\u001b[0m\n\u001b[1;32m    175\u001b[0m         raise ValueError(\"Found arrays with inconsistent numbers of samples: \"\n",
      "\u001b[0;32mC:\\Users\\Akash\\Anaconda3\\lib\\site-packages\\sklearn\\utils\\validation.py\u001b[0m in \u001b[0;36m<listcomp>\u001b[0;34m(.0)\u001b[0m\n\u001b[1;32m    171\u001b[0m     \"\"\"\n\u001b[1;32m    172\u001b[0m \u001b[1;33m\u001b[0m\u001b[0m\n\u001b[0;32m--> 173\u001b[0;31m     \u001b[0muniques\u001b[0m \u001b[1;33m=\u001b[0m \u001b[0mnp\u001b[0m\u001b[1;33m.\u001b[0m\u001b[0munique\u001b[0m\u001b[1;33m(\u001b[0m\u001b[1;33m[\u001b[0m\u001b[0m_num_samples\u001b[0m\u001b[1;33m(\u001b[0m\u001b[0mX\u001b[0m\u001b[1;33m)\u001b[0m \u001b[1;32mfor\u001b[0m \u001b[0mX\u001b[0m \u001b[1;32min\u001b[0m \u001b[0marrays\u001b[0m \u001b[1;32mif\u001b[0m \u001b[0mX\u001b[0m \u001b[1;32mis\u001b[0m \u001b[1;32mnot\u001b[0m \u001b[1;32mNone\u001b[0m\u001b[1;33m]\u001b[0m\u001b[1;33m)\u001b[0m\u001b[1;33m\u001b[0m\u001b[0m\n\u001b[0m\u001b[1;32m    174\u001b[0m     \u001b[1;32mif\u001b[0m \u001b[0mlen\u001b[0m\u001b[1;33m(\u001b[0m\u001b[0muniques\u001b[0m\u001b[1;33m)\u001b[0m \u001b[1;33m>\u001b[0m \u001b[1;36m1\u001b[0m\u001b[1;33m:\u001b[0m\u001b[1;33m\u001b[0m\u001b[0m\n\u001b[1;32m    175\u001b[0m         raise ValueError(\"Found arrays with inconsistent numbers of samples: \"\n",
      "\u001b[0;32mC:\\Users\\Akash\\Anaconda3\\lib\\site-packages\\sklearn\\utils\\validation.py\u001b[0m in \u001b[0;36m_num_samples\u001b[0;34m(x)\u001b[0m\n\u001b[1;32m    116\u001b[0m         \u001b[1;32melse\u001b[0m\u001b[1;33m:\u001b[0m\u001b[1;33m\u001b[0m\u001b[0m\n\u001b[1;32m    117\u001b[0m             raise TypeError(\"Expected sequence or array-like, got %s\" %\n\u001b[0;32m--> 118\u001b[0;31m                             type(x))\n\u001b[0m\u001b[1;32m    119\u001b[0m     \u001b[1;32mif\u001b[0m \u001b[0mhasattr\u001b[0m\u001b[1;33m(\u001b[0m\u001b[0mx\u001b[0m\u001b[1;33m,\u001b[0m \u001b[1;34m'shape'\u001b[0m\u001b[1;33m)\u001b[0m\u001b[1;33m:\u001b[0m\u001b[1;33m\u001b[0m\u001b[0m\n\u001b[1;32m    120\u001b[0m         \u001b[1;32mif\u001b[0m \u001b[0mlen\u001b[0m\u001b[1;33m(\u001b[0m\u001b[0mx\u001b[0m\u001b[1;33m.\u001b[0m\u001b[0mshape\u001b[0m\u001b[1;33m)\u001b[0m \u001b[1;33m==\u001b[0m \u001b[1;36m0\u001b[0m\u001b[1;33m:\u001b[0m\u001b[1;33m\u001b[0m\u001b[0m\n",
      "\u001b[0;31mTypeError\u001b[0m: Expected sequence or array-like, got <class 'map'>"
     ]
    }
   ],
   "source": [
    "#get label_map for the max j_score\n",
    "j_score,pred_label_map = get_jc_label_permute(max_cluster_label_num = 11,predicted_label=pred ,gnd_truth_vector= gnd_truth_np)"
   ]
  },
  {
   "cell_type": "code",
   "execution_count": null,
   "metadata": {
    "collapsed": false
   },
   "outputs": [],
   "source": [
    "j_score"
   ]
  },
  {
   "cell_type": "code",
   "execution_count": null,
   "metadata": {
    "collapsed": false
   },
   "outputs": [],
   "source": [
    "#predicted clustering\n",
    "pred"
   ]
  },
  {
   "cell_type": "code",
   "execution_count": null,
   "metadata": {
    "collapsed": false
   },
   "outputs": [],
   "source": [
    "#original clustering\n",
    "np.array(gdf.cluster)"
   ]
  },
  {
   "cell_type": "code",
   "execution_count": null,
   "metadata": {
    "collapsed": false
   },
   "outputs": [],
   "source": [
    "data_attribute_list"
   ]
  },
  {
   "cell_type": "code",
   "execution_count": null,
   "metadata": {
    "collapsed": false
   },
   "outputs": [],
   "source": [
    "cluster_indexes"
   ]
  },
  {
   "cell_type": "code",
   "execution_count": null,
   "metadata": {
    "collapsed": false
   },
   "outputs": [],
   "source": [
    "#input_df.index.tolist()"
   ]
  },
  {
   "cell_type": "code",
   "execution_count": null,
   "metadata": {
    "collapsed": true
   },
   "outputs": [],
   "source": [
    "#cho.txt\n",
    "#[362, 295, 243, 133, 383] -- 0.47\n",
    "#[55, 23, 198, 358, 207] -- 0.349\n",
    "#iyer.txt -- presence of big number of outliers reduces the performance of the algorithm\n",
    "#[472, 289, 434, 264, 325, 18, 47, 17, 19, 378] -- 0.15"
   ]
  },
  {
   "cell_type": "code",
   "execution_count": null,
   "metadata": {
    "collapsed": false
   },
   "outputs": [],
   "source": [
    "#getting indices of columns with data\n",
    "data_attribute_list\n",
    "col_list = list()\n",
    "for e in data_attribute_list:\n",
    "    col_list.append(gdf.columns.get_loc(e))\n",
    "col_list"
   ]
  },
  {
   "cell_type": "code",
   "execution_count": null,
   "metadata": {
    "collapsed": false
   },
   "outputs": [],
   "source": [
    "# Package to perform PCA\n",
    "import sklearn.datasets\n",
    "import sklearn.decomposition\n",
    "\n",
    "# Perform the PCA again retaining only the top 2 components\n",
    "sklearn_pca = sklearn.decomposition.PCA(n_components=2)\n",
    "sklearn_pca.fit(np.array(gdf.loc[input_df.index.tolist(),col_list]))\n",
    "\n",
    "# Project the data into this 2D space and convert it back to a tidy dataframe\n",
    "df_2D = pd.DataFrame(sklearn_pca.transform(np.array(gdf.loc[input_df.index.tolist(),col_list])),\n",
    "                     columns=['PCA1', 'PCA2'])\n",
    "df_2D['clusters'] = gdf['cluster']\n",
    "df_2D.head()\n",
    "for key, group in df_2D.groupby(['clusters']):\n",
    "    plt.plot(group.PCA1, group.PCA2, 'o', alpha=0.7, label=key)\n",
    "\n",
    "# Tidy up plot\n",
    "plt.legend(loc=0, fontsize=15)\n",
    "plt.margins(0.05)\n",
    "plt.xlabel('PCA 1')\n",
    "plt.ylabel('PCA 2')"
   ]
  },
  {
   "cell_type": "code",
   "execution_count": null,
   "metadata": {
    "collapsed": true
   },
   "outputs": [],
   "source": []
  },
  {
   "cell_type": "code",
   "execution_count": null,
   "metadata": {
    "collapsed": true
   },
   "outputs": [],
   "source": []
  },
  {
   "cell_type": "code",
   "execution_count": null,
   "metadata": {
    "collapsed": true
   },
   "outputs": [],
   "source": []
  },
  {
   "cell_type": "code",
   "execution_count": null,
   "metadata": {
    "collapsed": true
   },
   "outputs": [],
   "source": []
  },
  {
   "cell_type": "code",
   "execution_count": null,
   "metadata": {
    "collapsed": true
   },
   "outputs": [],
   "source": []
  },
  {
   "cell_type": "markdown",
   "metadata": {},
   "source": [
    "comparing against sci kit kmeans"
   ]
  },
  {
   "cell_type": "markdown",
   "metadata": {},
   "source": [
    "X= np.array(input_df.iloc[:,1:])\n",
    "from sklearn.cluster import KMeans\n",
    "kmeans = KMeans(n_clusters=5)\n",
    "kmeans.fit(X)\n",
    "centroids = kmeans.cluster_centers_\n",
    "labels = kmeans.labels_\n",
    "labels = labels+1"
   ]
  },
  {
   "cell_type": "markdown",
   "metadata": {},
   "source": [
    "jaccard_similarity_score(gnd_truth_np,labels)"
   ]
  },
  {
   "cell_type": "markdown",
   "metadata": {},
   "source": [
    "gnd_truth"
   ]
  },
  {
   "cell_type": "markdown",
   "metadata": {},
   "source": [
    "X.shape"
   ]
  },
  {
   "cell_type": "code",
   "execution_count": null,
   "metadata": {
    "collapsed": true
   },
   "outputs": [],
   "source": []
  }
 ],
 "metadata": {
  "kernelspec": {
   "display_name": "Python [conda root]",
   "language": "python",
   "name": "conda-root-py"
  },
  "language_info": {
   "codemirror_mode": {
    "name": "ipython",
    "version": 3
   },
   "file_extension": ".py",
   "mimetype": "text/x-python",
   "name": "python",
   "nbconvert_exporter": "python",
   "pygments_lexer": "ipython3",
   "version": "3.5.2"
  }
 },
 "nbformat": 4,
 "nbformat_minor": 1
}
